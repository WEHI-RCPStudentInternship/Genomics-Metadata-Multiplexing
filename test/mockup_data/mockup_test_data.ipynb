{
 "cells": [
  {
   "cell_type": "markdown",
   "id": "898a1174-1b80-4c99-9d03-6cd2ba185f83",
   "metadata": {},
   "source": [
    "# GMM Test Data Mockup Notebook\n",
    "\n",
    "This notebook will produce the test files for GMM dashboard, all output files are stored in tsv format.\n",
    "\n",
    "For more information please refer to https://github.com/WEHI-ResearchComputing/Genomics-Metadata-Multiplexing/tree/shiny-r-dev/test."
   ]
  },
  {
   "cell_type": "markdown",
   "id": "3f7a86a8-91e6-4f65-97fb-9a7506388d13",
   "metadata": {},
   "source": [
    "## Operation 1: Generate Sample Sheet based on given Plate Layout Template"
   ]
  },
  {
   "cell_type": "code",
   "execution_count": 1,
   "id": "2c3fce19-311c-4fb1-93d8-afd61c316570",
   "metadata": {},
   "outputs": [],
   "source": [
    "from operations import *"
   ]
  },
  {
   "cell_type": "code",
   "execution_count": 2,
   "id": "10377af0-f862-4449-b289-72913ec36775",
   "metadata": {},
   "outputs": [
    {
     "data": {
      "text/plain": [
       "(    plate well_position            sample\n",
       " 0  LCE123            A1  Test before sort\n",
       " 1  LCE123            A2   Test after sort\n",
       " 2  LCE123            A3           SampleA\n",
       " 3  LCE123            A4           SampleA\n",
       " 4  LCE123            A5           SampleA,\n",
       " None)"
      ]
     },
     "execution_count": 2,
     "metadata": {},
     "output_type": "execute_result"
    }
   ],
   "source": [
    "# generate sample sheet from based on provided plate_spreadsheet_template.xlsx\n",
    "sample_sheet_df = plate_to_samplesheet('./plate_spreadsheet_template.xlsx')\n",
    "\n",
    "(\n",
    "    sample_sheet_df.head(),\n",
    "    sample_sheet_df.to_csv('op1.plate_layout_to_spreadsheet.tsv', sep='\\t', index=False)\n",
    ")"
   ]
  },
  {
   "cell_type": "markdown",
   "id": "0d797258-5bb7-42b1-825d-75e2c9fd00ba",
   "metadata": {},
   "source": [
    "## Operation 2: Collate Multiple FCS files into a single FCS file"
   ]
  },
  {
   "cell_type": "code",
   "execution_count": 3,
   "id": "a8fd42c0-c56b-4730-a832-6c0c896e7509",
   "metadata": {},
   "outputs": [],
   "source": [
    "def collate_fcs_files(fcs_files, upload_dir):\n",
    "    '''\n",
    "    Collate FCS files into a single dataframe, adding columns for plate and sample name.\n",
    "    '''\n",
    "    fcs_data = pd.DataFrame()\n",
    "\n",
    "    for fcs_file in fcs_files:\n",
    "        # fcs_savepath = os.path.join(upload_dir, fcs_file.filename)\n",
    "        fcs_savepath = fcs_file  # alter this function for mock up test result purpose\n",
    "        meta, data = fcsparser.parse(fcs_savepath, meta_data_only=False, reformat_meta=True)\n",
    "        data = data.sort_values('Time')\n",
    "        data['well_position'] = get_well_positions(meta)\n",
    "\n",
    "        plate, sample = get_plate_and_sample_from_filepath(fcs_savepath)\n",
    "        data['plate'] = plate\n",
    "        data['sample'] = sample\n",
    "\n",
    "        fcs_data = pd.concat([fcs_data, data])\n",
    "\n",
    "    return fcs_data"
   ]
  },
  {
   "cell_type": "code",
   "execution_count": 4,
   "id": "989de790-9ef3-4dea-a142-4209ede54380",
   "metadata": {},
   "outputs": [
    {
     "data": {
      "text/plain": [
       "(           FSC-A    FSC-H          SSC-A    SSC-H    CD16 FITC       CD56 PE  \\\n",
       " 0  115089.296875  69562.0   75108.632812  44791.0   129.710007  37108.621094   \n",
       " 1  127671.296875  83696.0   64815.761719  43674.0   112.270004  17709.240234   \n",
       " 2  102016.796875  74176.0   50605.429688  35155.0   105.730003  25967.160156   \n",
       " 3  123290.093750  71681.0  100057.640625  55735.0   553.720032     66.299995   \n",
       " 4  110112.296875  68001.0   86295.304688  55742.0  1148.859985    149.940002   \n",
       " \n",
       "          DAPI         Time well_position   plate   sample  \n",
       " 0   61.410000  1698.400024            A3  LCE123  NKC_084  \n",
       " 1   52.509998  1865.300049            A4  LCE123  NKC_084  \n",
       " 2   41.829998  2052.899902            A5  LCE123  NKC_084  \n",
       " 3  203.809998  2330.300049            A6  LCE123  NKC_084  \n",
       " 4   97.900002  2758.300049            A7  LCE123  NKC_084  ,\n",
       " None)"
      ]
     },
     "execution_count": 4,
     "metadata": {},
     "output_type": "execute_result"
    }
   ],
   "source": [
    "# collate multiple fcs files into a single tsv output\n",
    "collated_fcs_df = collate_fcs_files(['./14Jun23_INX_NKC_084_LCE662.fcs'], \"\")  # provide a list of fcs files\n",
    "\n",
    "# mock up plate data for LCE123\n",
    "collated_fcs_df['plate'] = 'LCE123'\n",
    "\n",
    "(\n",
    "    collated_fcs_df.head(),\n",
    "    collated_fcs_df.to_csv('./op2.collate_fcs_files.tsv', sep='\\t', index=False)\n",
    ")"
   ]
  },
  {
   "cell_type": "markdown",
   "id": "b0234ab1-d3a9-4ac9-be2d-2e3164908f7c",
   "metadata": {},
   "source": [
    "## Operation 3: Merge Data with Sample Sheet and Template Sheet"
   ]
  },
  {
   "cell_type": "code",
   "execution_count": 5,
   "id": "d64d95c4-5bef-427d-b0df-8eec429638ae",
   "metadata": {},
   "outputs": [
    {
     "data": {
      "text/plain": [
       "(   Plate# Well position Sample type\\n(SC or MB)  Tissue type\\n(if required)  \\\n",
       " 0  LCE123            A1                   empty                         NaN   \n",
       " 1  LCE123            A2                   empty                         NaN   \n",
       " 2  LCE123            A3                     NaN                         NaN   \n",
       " 3  LCE123            A4                     NaN                         NaN   \n",
       " 4  LCE123            A5                     NaN                         NaN   \n",
       " \n",
       "   Sample name  FACs gate\\n(if required) Primer name  \\\n",
       " 0     removed                       NaN     removed   \n",
       " 1     removed                       NaN     removed   \n",
       " 2         NaN                       NaN          99   \n",
       " 3         NaN                       NaN         100   \n",
       " 4         NaN                       NaN         101   \n",
       " \n",
       "   index sequence \\n(as in C-RT1-primer) (separate index read)  \\\n",
       " 0                               removed               removed   \n",
       " 1                               removed               removed   \n",
       " 2                              GGTCTATG                   NaN   \n",
       " 3                              GTCCGAAT                   NaN   \n",
       " 4                              TAGTGCGT                   NaN   \n",
       " \n",
       "   (separate index read).1  ... well_position            sample FSC-A FSC-H  \\\n",
       " 0                 removed  ...            A1  Test before sort   NaN   NaN   \n",
       " 1                 removed  ...            A2   Test after sort   NaN   NaN   \n",
       " 2                     NaN  ...            A3           SampleA   NaN   NaN   \n",
       " 3                     NaN  ...            A4           SampleA   NaN   NaN   \n",
       " 4                     NaN  ...            A5           SampleA   NaN   NaN   \n",
       " \n",
       "   SSC-A  SSC-H  CD16 FITC  CD56 PE  DAPI  Time  \n",
       " 0   NaN    NaN        NaN      NaN   NaN   NaN  \n",
       " 1   NaN    NaN        NaN      NaN   NaN   NaN  \n",
       " 2   NaN    NaN        NaN      NaN   NaN   NaN  \n",
       " 3   NaN    NaN        NaN      NaN   NaN   NaN  \n",
       " 4   NaN    NaN        NaN      NaN   NaN   NaN  \n",
       " \n",
       " [5 rows x 23 columns],\n",
       " None)"
      ]
     },
     "execution_count": 5,
     "metadata": {},
     "output_type": "execute_result"
    }
   ],
   "source": [
    "merged_samplesheet_fcs_and_template_sheet_df = merge_data_with_samplesheet('./op1.plate_layout_to_spreadsheet.tsv', './op2.collate_fcs_files.tsv', './template_sheet.xlsx')\n",
    "\n",
    "(\n",
    "    merged_samplesheet_fcs_and_template_sheet_df.head(),\n",
    "    merged_samplesheet_fcs_and_template_sheet_df.to_csv('op3.merged_sample_sheet.tsv', index=False, sep='\\t')\n",
    ")"
   ]
  },
  {
   "cell_type": "markdown",
   "id": "13c9add8-7ac0-460d-bdde-84c70062e5cd",
   "metadata": {},
   "source": [
    "## Operation 4: Merge Primer Index File with Operation 3 Result (if provide Primer Index File)"
   ]
  },
  {
   "cell_type": "code",
   "execution_count": 6,
   "id": "b1674138-0ce2-4807-83ff-e2f14af97797",
   "metadata": {},
   "outputs": [
    {
     "data": {
      "text/plain": [
       "(   Plate# Well position Sample type\\n(SC or MB)  Tissue type\\n(if required)  \\\n",
       " 0  LCE123            A1                   empty                         NaN   \n",
       " 1  LCE123            A2                   empty                         NaN   \n",
       " 2  LCE123            A3                     NaN                         NaN   \n",
       " 3  LCE123            A4                     NaN                         NaN   \n",
       " 4  LCE123            A5                     NaN                         NaN   \n",
       " \n",
       "   Sample name  FACs gate\\n(if required) Primer name  \\\n",
       " 0     removed                       NaN     removed   \n",
       " 1     removed                       NaN     removed   \n",
       " 2         NaN                       NaN          99   \n",
       " 3         NaN                       NaN         100   \n",
       " 4         NaN                       NaN         101   \n",
       " \n",
       "   index sequence \\n(as in C-RT1-primer) (separate index read)  \\\n",
       " 0                               removed               removed   \n",
       " 1                               removed               removed   \n",
       " 2                              GGTCTATG                   NaN   \n",
       " 3                              GTCCGAAT                   NaN   \n",
       " 4                              TAGTGCGT                   NaN   \n",
       " \n",
       "   (separate index read).1  ... Time  Sample name_primer Strain Embryo / Adult  \\\n",
       " 0                 removed  ...  NaN    Test before sort    NaN            NaN   \n",
       " 1                 removed  ...  NaN     Test after sort    NaN            NaN   \n",
       " 2                     NaN  ...  NaN             SampleA     WT    e 14 Embryo   \n",
       " 3                     NaN  ...  NaN             SampleA     WT    e 14 Embryo   \n",
       " 4                     NaN  ...  NaN             SampleA     WT    e 14 Embryo   \n",
       " \n",
       "   Cell Type  Primer name_primer  index sequence \\n(as in C-RT1-primer)_primer  \\\n",
       " 0       NaN                 NaN                                           NaN   \n",
       " 1       NaN                 NaN                                           NaN   \n",
       " 2      MPP4              RT1-99                                      GGTCTATG   \n",
       " 3      MPP4             RT1-100                                      GTCCGAAT   \n",
       " 4      MPP4             RT1-101                                      TAGTGCGT   \n",
       " \n",
       "    (separate index read)_primer  (separate index read).1_primer  \\\n",
       " 0                           NaN                             NaN   \n",
       " 1                           NaN                             NaN   \n",
       " 2                          RPI9                          GATCAG   \n",
       " 3                          RPI9                          GATCAG   \n",
       " 4                          RPI9                          GATCAG   \n",
       " \n",
       "                    RT1 index primer sequences_primer  \n",
       " 0                                                NaN  \n",
       " 1                                                NaN  \n",
       " 2  CGATTGAGGCCGGTAATACGACTCACTATAGGGGTTCAGAGTTCTA...  \n",
       " 3  CGATTGAGGCCGGTAATACGACTCACTATAGGGGTTCAGAGTTCTA...  \n",
       " 4  CGATTGAGGCCGGTAATACGACTCACTATAGGGGTTCAGAGTTCTA...  \n",
       " \n",
       " [5 rows x 32 columns],\n",
       " None)"
      ]
     },
     "execution_count": 6,
     "metadata": {},
     "output_type": "execute_result"
    }
   ],
   "source": [
    "# load primer index template\n",
    "primer_index_df = pd.read_excel('primer_index_template.xlsx', sheet_name='Sample primer & index', skiprows=3)\n",
    "\n",
    "# mockup primer index data by setting plate# to LCE123, mockup sample data based on operation 1\n",
    "primer_index_df['Plate#'] = 'LCE123'\n",
    "primer_index_df['Sample name'] = sample_sheet_df['sample']\n",
    "\n",
    "# generate mockup test_primer_index.tsv file\n",
    "primer_index_df.to_csv('test_primer_index.tsv', sep='\\t', index=False)\n",
    "\n",
    "# generate mockup test result file\n",
    "merged_primer_index_df = pd.merge(merged_samplesheet_fcs_and_template_sheet_df, primer_index_df, \n",
    "                                  left_on=['Plate#', 'Well position', 'sample'], \n",
    "                                  right_on=['Plate#', 'Well position', 'Sample name'],\n",
    "                                  suffixes=('', '_primer'))\n",
    "\n",
    "(\n",
    "    merged_primer_index_df.head(),\n",
    "    merged_primer_index_df.to_csv('op4.merged_primer_index.tsv', sep='\\t', index=False)\n",
    ")"
   ]
  }
 ],
 "metadata": {
  "kernelspec": {
   "display_name": "Python 3 (ipykernel)",
   "language": "python",
   "name": "python3"
  },
  "language_info": {
   "codemirror_mode": {
    "name": "ipython",
    "version": 3
   },
   "file_extension": ".py",
   "mimetype": "text/x-python",
   "name": "python",
   "nbconvert_exporter": "python",
   "pygments_lexer": "ipython3",
   "version": "3.8.10"
  }
 },
 "nbformat": 4,
 "nbformat_minor": 5
}
